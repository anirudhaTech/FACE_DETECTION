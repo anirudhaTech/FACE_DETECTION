import cv2

# Load the pre-trained Haar Cascade face detection model
face_cap = cv2.CascadeClassifier("C:/Users/Shital/AppData/Local/Programs/Python/Python313/Lib/site-packages/cv2/data/haarcascade_frontalface_alt2.xml")

# Open the webcam
video_cap = cv2.VideoCapture(0)

# Start an infinite loop to capture frames
while True:
    ret, video_data = video_cap.read()  # Read a frame from the webcam
    
    # Convert the captured frame to grayscale
    col = cv2.cvtColor(video_data, cv2.COLOR_BGR2GRAY)
    
    # Detect faces in the grayscale image
    faces = face_cap.detectMultiScale(
        col,
        scaleFactor=1.1,
        minNeighbors=5,
        minSize=(30, 30),
        flags=cv2.CASCADE_SCALE_IMAGE
    )
    
    # Draw rectangles around the detected faces
    for (x, y, w, h) in faces:
        cv2.rectangle(video_data, (x, y), (x + w, y + h), (0, 255, 0), 2)
    
    # Display the video with face rectangles drawn
    cv2.imshow("video_live", video_data)
    
    # Exit the loop if the 'a' key is pressed
    if cv2.waitKey(10) == ord("a"):
        break

# Release the webcam and close all OpenCV windows
video_cap.release()
cv2.destroyAllWindows()
