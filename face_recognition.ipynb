{
 "cells": [
  {
   "cell_type": "code",
   "execution_count": null,
   "id": "adc03d6b-2609-4495-b690-ba94db0cbdbf",
   "metadata": {},
   "outputs": [],
   "source": []
  },
  {
   "cell_type": "code",
   "execution_count": null,
   "id": "15b70416-5155-4614-8e63-2a9b277371c9",
   "metadata": {},
   "outputs": [],
   "source": [
    "import cv2\n",
    "face_cap = cv2.CascadeClassifier(\"C:/Users/Shital/AppData/Local/Programs/Python/Python313/Lib/site-packages/cv2/data/haarcascade_frontalface_alt2.xml\")\n",
    "video_cap = cv2.VideoCapture(0)\n",
    "while True:\n",
    "    ret , video_data = video_cap.read()\n",
    "    col = cv2.cvtColor(video_data,cv2.COLOR_BGR2GRAY)\n",
    "    faces = face_cap.detectMultiScale(\n",
    "        col,\n",
    "        scaleFactor = 1.1,\n",
    "        minNeighbors = 5,\n",
    "        minSize = (30, 30),\n",
    "        flags = cv2.CASCADE_SCALE_IMAGE\n",
    "    )\n",
    "    for (x,y,w,h) in faces:\n",
    "        cv2.rectangle(video_data,(x,y),(x+w,x+h),(0,255,0),2)\n",
    "    cv2.imshow(\"video_live\",video_data)\n",
    "    if cv2.waitKey(10) == ord(\"a\"):\n",
    "        break\n",
    "video_cap.release()"
   ]
  },
  {
   "cell_type": "code",
   "execution_count": null,
   "id": "0f745782-f569-45f6-b8ed-c54803ca86fb",
   "metadata": {},
   "outputs": [],
   "source": []
  },
  {
   "cell_type": "code",
   "execution_count": 1,
   "id": "d5a6408b-5780-453b-ab70-8361b722ba69",
   "metadata": {},
   "outputs": [],
   "source": []
  },
  {
   "cell_type": "code",
   "execution_count": null,
   "id": "f2ca035e-9d7f-4f82-ad9e-248123d5bf15",
   "metadata": {},
   "outputs": [],
   "source": []
  }
 ],
 "metadata": {
  "kernelspec": {
   "display_name": "Python 3 (ipykernel)",
   "language": "python",
   "name": "python3"
  },
  "language_info": {
   "codemirror_mode": {
    "name": "ipython",
    "version": 3
   },
   "file_extension": ".py",
   "mimetype": "text/x-python",
   "name": "python",
   "nbconvert_exporter": "python",
   "pygments_lexer": "ipython3",
   "version": "3.13.2"
  }
 },
 "nbformat": 4,
 "nbformat_minor": 5
}
